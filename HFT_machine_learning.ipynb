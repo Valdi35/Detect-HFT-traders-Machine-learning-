{
  "cells": [
    {
      "cell_type": "markdown",
      "metadata": {
        "id": "view-in-github",
        "colab_type": "text"
      },
      "source": [
        "<a href=\"https://colab.research.google.com/github/Valdi35/Detect-HFT-traders-Machine-learning-/blob/main/HFT_machine_learning.ipynb\" target=\"_parent\"><img src=\"https://colab.research.google.com/assets/colab-badge.svg\" alt=\"Open In Colab\"/></a>"
      ]
    },
    {
      "cell_type": "markdown",
      "source": [
        "# Lecture et nettoyage des donnees \n"
      ],
      "metadata": {
        "id": "fNZaNuC12F2E"
      }
    },
    {
      "cell_type": "markdown",
      "metadata": {
        "id": "wtuFmc5p-S8z"
      },
      "source": [
        "Le but du challenge est de construire un modèle de machine learning pouvant prédire les trois catégories de traders (HFT, non HFT et MIX). Au delà d'obtenir une meilleure accuracy, le second objectif consiste à choisir les variables les plus pertinentes."
      ]
    },
    {
      "cell_type": "code",
      "source": [
        "#Librairies\n",
        "import numpy as np\n",
        "import pandas as pd\n",
        "import matplotlib.pyplot as plt\n",
        "import seaborn as sns\n",
        "import os"
      ],
      "metadata": {
        "id": "D02cvXuPMsI5"
      },
      "execution_count": null,
      "outputs": []
    },
    {
      "cell_type": "code",
      "source": [
        "from google.colab import drive\n",
        "drive.mount('/content/gdrive')\n",
        "path_folder_data_drive = '/content/gdrive/MyDrive/Colab_Notebooks/'"
      ],
      "metadata": {
        "colab": {
          "base_uri": "https://localhost:8080/"
        },
        "id": "gp-0obXuL1od",
        "outputId": "2262f5f4-372f-40c4-d51b-384054315773"
      },
      "execution_count": null,
      "outputs": [
        {
          "output_type": "stream",
          "name": "stdout",
          "text": [
            "Drive already mounted at /content/gdrive; to attempt to forcibly remount, call drive.mount(\"/content/gdrive\", force_remount=True).\n"
          ]
        }
      ]
    },
    {
      "cell_type": "code",
      "source": [
        "from os import listdir\n",
        "from os.path import isfile, join\n",
        "mypath = path_folder_data_drive+\"Challenge_AMF\"\n",
        "onlyfiles = [f for f in listdir(mypath) if isfile(join(mypath, f))]\n",
        "print(onlyfiles)"
      ],
      "metadata": {
        "colab": {
          "base_uri": "https://localhost:8080/"
        },
        "id": "Q8ZTeZmxMPFQ",
        "outputId": "d5ee15e6-666f-4cb7-e2e9-26d3d09e9062"
      },
      "execution_count": null,
      "outputs": [
        {
          "output_type": "stream",
          "name": "stdout",
          "text": [
            "['HFT_machine_learning.ipynb', 'AMF_train_X.csv', 'AMF_train_Y.csv', 'AMF_test_X.csv']\n"
          ]
        }
      ]
    },
    {
      "cell_type": "code",
      "execution_count": null,
      "metadata": {
        "id": "rlBCZxymt4Ep"
      },
      "outputs": [],
      "source": [
        "df = pd.read_csv(os.path.join(mypath, 'AMF_train_X.csv'))\n",
        "y_train = pd.read_csv(os.path.join(mypath, 'AMF_train_Y.csv'))"
      ]
    },
    {
      "cell_type": "code",
      "execution_count": null,
      "metadata": {
        "id": "NpUDc_Ys1_QB"
      },
      "outputs": [],
      "source": [
        "df.columns = df.columns.str.lower()\n",
        "y_train.columns = y_train.columns.str.lower()"
      ]
    },
    {
      "cell_type": "code",
      "execution_count": null,
      "metadata": {
        "colab": {
          "base_uri": "https://localhost:8080/",
          "height": 226
        },
        "id": "VoX2M77s1_QD",
        "outputId": "8461d64a-03d2-4cee-9976-05b0f0ed99b4"
      },
      "outputs": [
        {
          "output_type": "execute_result",
          "data": {
            "text/html": [
              "<div>\n",
              "<style scoped>\n",
              "    .dataframe tbody tr th:only-of-type {\n",
              "        vertical-align: middle;\n",
              "    }\n",
              "\n",
              "    .dataframe tbody tr th {\n",
              "        vertical-align: top;\n",
              "    }\n",
              "\n",
              "    .dataframe thead th {\n",
              "        text-align: right;\n",
              "    }\n",
              "</style>\n",
              "<table border=\"1\" class=\"dataframe\">\n",
              "  <thead>\n",
              "    <tr style=\"text-align: right;\">\n",
              "      <th></th>\n",
              "      <th>index</th>\n",
              "      <th>share</th>\n",
              "      <th>day</th>\n",
              "      <th>trader</th>\n",
              "      <th>otr</th>\n",
              "      <th>ocr</th>\n",
              "      <th>omr</th>\n",
              "      <th>min_time_two_events</th>\n",
              "      <th>mean_time_two_events</th>\n",
              "      <th>10_p_time_two_events</th>\n",
              "      <th>med_time_two_events</th>\n",
              "      <th>25_p_time_two_events</th>\n",
              "      <th>75_p_time_two_events</th>\n",
              "      <th>90_p_time_two_events</th>\n",
              "      <th>max_time_two_events</th>\n",
              "      <th>min_lifetime_cancel</th>\n",
              "      <th>mean_lifetime_cancel</th>\n",
              "      <th>10_p_lifetime_cancel</th>\n",
              "      <th>med_lifetime_cancel</th>\n",
              "      <th>25_p_lifetime_cancel</th>\n",
              "      <th>75_p_lifetime_cancel</th>\n",
              "      <th>90_p_lifetime_cancel</th>\n",
              "      <th>max_lifetime_cancel</th>\n",
              "      <th>nbtradevenuemic</th>\n",
              "      <th>maxnbtradesbysecond</th>\n",
              "      <th>meannbtradesbysecond</th>\n",
              "      <th>min_dt_tv1</th>\n",
              "      <th>mean_dt_tv1</th>\n",
              "      <th>med_dt_tv1</th>\n",
              "      <th>min_dt_tv1_tv2</th>\n",
              "      <th>mean_dt_tv1_tv2</th>\n",
              "      <th>med_dt_tv1_tv2</th>\n",
              "      <th>min_dt_tv1_tv3</th>\n",
              "      <th>mean_dt_tv1_tv3</th>\n",
              "      <th>med_dt_tv1_tv3</th>\n",
              "      <th>min_dt_tv1_tv4</th>\n",
              "      <th>mean_dt_tv1_tv4</th>\n",
              "      <th>med_dt_tv1_tv4</th>\n",
              "      <th>nbsecondwithatleatonetrade</th>\n",
              "    </tr>\n",
              "  </thead>\n",
              "  <tbody>\n",
              "    <tr>\n",
              "      <th>0</th>\n",
              "      <td>1</td>\n",
              "      <td>Isin_8</td>\n",
              "      <td>Date_24</td>\n",
              "      <td>Trader_10</td>\n",
              "      <td>2.272727</td>\n",
              "      <td>8.333333</td>\n",
              "      <td>12.500000</td>\n",
              "      <td>0.0</td>\n",
              "      <td>5117.830300</td>\n",
              "      <td>0.000000</td>\n",
              "      <td>419.688500</td>\n",
              "      <td>10.722543</td>\n",
              "      <td>984.320560</td>\n",
              "      <td>23151.83800</td>\n",
              "      <td>25139.598</td>\n",
              "      <td>682.153260</td>\n",
              "      <td>8272.770569</td>\n",
              "      <td>682.153260</td>\n",
              "      <td>984.32056</td>\n",
              "      <td>682.15326</td>\n",
              "      <td>23151.83800</td>\n",
              "      <td>23151.8380</td>\n",
              "      <td>23151.838</td>\n",
              "      <td>1</td>\n",
              "      <td>7</td>\n",
              "      <td>2.750000</td>\n",
              "      <td>351.702399</td>\n",
              "      <td>9639.216031</td>\n",
              "      <td>1585.079495</td>\n",
              "      <td>NaN</td>\n",
              "      <td>NaN</td>\n",
              "      <td>NaN</td>\n",
              "      <td>NaN</td>\n",
              "      <td>NaN</td>\n",
              "      <td>NaN</td>\n",
              "      <td>NaN</td>\n",
              "      <td>NaN</td>\n",
              "      <td>NaN</td>\n",
              "      <td>4</td>\n",
              "    </tr>\n",
              "    <tr>\n",
              "      <th>1</th>\n",
              "      <td>2</td>\n",
              "      <td>Isin_87</td>\n",
              "      <td>Date_29</td>\n",
              "      <td>Trader_10</td>\n",
              "      <td>1.696629</td>\n",
              "      <td>25.166667</td>\n",
              "      <td>21.571429</td>\n",
              "      <td>0.0</td>\n",
              "      <td>1846.968401</td>\n",
              "      <td>0.000074</td>\n",
              "      <td>0.003374</td>\n",
              "      <td>0.000204</td>\n",
              "      <td>8.768699</td>\n",
              "      <td>2671.48830</td>\n",
              "      <td>31278.357</td>\n",
              "      <td>11.866026</td>\n",
              "      <td>3796.632686</td>\n",
              "      <td>11.866026</td>\n",
              "      <td>177.93991</td>\n",
              "      <td>73.74323</td>\n",
              "      <td>808.26230</td>\n",
              "      <td>21433.6840</td>\n",
              "      <td>21433.684</td>\n",
              "      <td>1</td>\n",
              "      <td>17</td>\n",
              "      <td>5.933333</td>\n",
              "      <td>0.000066</td>\n",
              "      <td>493.559196</td>\n",
              "      <td>0.000901</td>\n",
              "      <td>NaN</td>\n",
              "      <td>NaN</td>\n",
              "      <td>NaN</td>\n",
              "      <td>NaN</td>\n",
              "      <td>NaN</td>\n",
              "      <td>NaN</td>\n",
              "      <td>NaN</td>\n",
              "      <td>NaN</td>\n",
              "      <td>NaN</td>\n",
              "      <td>15</td>\n",
              "    </tr>\n",
              "    <tr>\n",
              "      <th>2</th>\n",
              "      <td>3</td>\n",
              "      <td>Isin_87</td>\n",
              "      <td>Date_23</td>\n",
              "      <td>Trader_10</td>\n",
              "      <td>1.482759</td>\n",
              "      <td>47.300000</td>\n",
              "      <td>118.250000</td>\n",
              "      <td>0.0</td>\n",
              "      <td>686.300630</td>\n",
              "      <td>0.000071</td>\n",
              "      <td>0.000599</td>\n",
              "      <td>0.000129</td>\n",
              "      <td>5.725427</td>\n",
              "      <td>448.88360</td>\n",
              "      <td>30799.467</td>\n",
              "      <td>2.761036</td>\n",
              "      <td>1397.103679</td>\n",
              "      <td>2.761036</td>\n",
              "      <td>187.99548</td>\n",
              "      <td>19.77734</td>\n",
              "      <td>418.23984</td>\n",
              "      <td>1953.6235</td>\n",
              "      <td>10842.464</td>\n",
              "      <td>1</td>\n",
              "      <td>20</td>\n",
              "      <td>5.063492</td>\n",
              "      <td>0.000018</td>\n",
              "      <td>163.954785</td>\n",
              "      <td>0.000770</td>\n",
              "      <td>NaN</td>\n",
              "      <td>NaN</td>\n",
              "      <td>NaN</td>\n",
              "      <td>NaN</td>\n",
              "      <td>NaN</td>\n",
              "      <td>NaN</td>\n",
              "      <td>NaN</td>\n",
              "      <td>NaN</td>\n",
              "      <td>NaN</td>\n",
              "      <td>63</td>\n",
              "    </tr>\n",
              "    <tr>\n",
              "      <th>3</th>\n",
              "      <td>4</td>\n",
              "      <td>Isin_12</td>\n",
              "      <td>Date_11</td>\n",
              "      <td>Trader_10</td>\n",
              "      <td>1.705882</td>\n",
              "      <td>14.500000</td>\n",
              "      <td>29.000000</td>\n",
              "      <td>0.0</td>\n",
              "      <td>2174.335265</td>\n",
              "      <td>0.000000</td>\n",
              "      <td>6.152666</td>\n",
              "      <td>0.000945</td>\n",
              "      <td>62.444176</td>\n",
              "      <td>19187.71900</td>\n",
              "      <td>19187.719</td>\n",
              "      <td>286.019320</td>\n",
              "      <td>9736.869034</td>\n",
              "      <td>286.019320</td>\n",
              "      <td>286.01932</td>\n",
              "      <td>286.01932</td>\n",
              "      <td>19187.71900</td>\n",
              "      <td>19187.7190</td>\n",
              "      <td>19187.719</td>\n",
              "      <td>1</td>\n",
              "      <td>8</td>\n",
              "      <td>4.250000</td>\n",
              "      <td>0.000148</td>\n",
              "      <td>1232.562133</td>\n",
              "      <td>0.004301</td>\n",
              "      <td>NaN</td>\n",
              "      <td>NaN</td>\n",
              "      <td>NaN</td>\n",
              "      <td>NaN</td>\n",
              "      <td>NaN</td>\n",
              "      <td>NaN</td>\n",
              "      <td>NaN</td>\n",
              "      <td>NaN</td>\n",
              "      <td>NaN</td>\n",
              "      <td>4</td>\n",
              "    </tr>\n",
              "    <tr>\n",
              "      <th>4</th>\n",
              "      <td>5</td>\n",
              "      <td>Isin_87</td>\n",
              "      <td>Date_9</td>\n",
              "      <td>Trader_10</td>\n",
              "      <td>1.517730</td>\n",
              "      <td>26.750000</td>\n",
              "      <td>NaN</td>\n",
              "      <td>0.0</td>\n",
              "      <td>944.008551</td>\n",
              "      <td>0.000071</td>\n",
              "      <td>0.001364</td>\n",
              "      <td>0.000146</td>\n",
              "      <td>2.225420</td>\n",
              "      <td>273.45676</td>\n",
              "      <td>23164.514</td>\n",
              "      <td>2.798452</td>\n",
              "      <td>10066.803992</td>\n",
              "      <td>2.798452</td>\n",
              "      <td>1345.95280</td>\n",
              "      <td>662.57434</td>\n",
              "      <td>21903.78300</td>\n",
              "      <td>23164.5140</td>\n",
              "      <td>23164.514</td>\n",
              "      <td>1</td>\n",
              "      <td>19</td>\n",
              "      <td>3.710526</td>\n",
              "      <td>0.000025</td>\n",
              "      <td>248.073927</td>\n",
              "      <td>0.001364</td>\n",
              "      <td>NaN</td>\n",
              "      <td>NaN</td>\n",
              "      <td>NaN</td>\n",
              "      <td>NaN</td>\n",
              "      <td>NaN</td>\n",
              "      <td>NaN</td>\n",
              "      <td>NaN</td>\n",
              "      <td>NaN</td>\n",
              "      <td>NaN</td>\n",
              "      <td>38</td>\n",
              "    </tr>\n",
              "  </tbody>\n",
              "</table>\n",
              "</div>"
            ],
            "text/plain": [
              "   index    share  ... med_dt_tv1_tv4 nbsecondwithatleatonetrade\n",
              "0      1   Isin_8  ...            NaN                          4\n",
              "1      2  Isin_87  ...            NaN                         15\n",
              "2      3  Isin_87  ...            NaN                         63\n",
              "3      4  Isin_12  ...            NaN                          4\n",
              "4      5  Isin_87  ...            NaN                         38\n",
              "\n",
              "[5 rows x 39 columns]"
            ]
          },
          "metadata": {},
          "execution_count": 12
        }
      ],
      "source": [
        "df.head()"
      ]
    },
    {
      "cell_type": "code",
      "execution_count": null,
      "metadata": {
        "id": "DBgIktG-tbRv",
        "colab": {
          "base_uri": "https://localhost:8080/",
          "height": 206
        },
        "outputId": "7daadea1-a360-4ed7-d5c0-1982a561bfa1"
      },
      "outputs": [
        {
          "output_type": "execute_result",
          "data": {
            "text/html": [
              "<div>\n",
              "<style scoped>\n",
              "    .dataframe tbody tr th:only-of-type {\n",
              "        vertical-align: middle;\n",
              "    }\n",
              "\n",
              "    .dataframe tbody tr th {\n",
              "        vertical-align: top;\n",
              "    }\n",
              "\n",
              "    .dataframe thead th {\n",
              "        text-align: right;\n",
              "    }\n",
              "</style>\n",
              "<table border=\"1\" class=\"dataframe\">\n",
              "  <thead>\n",
              "    <tr style=\"text-align: right;\">\n",
              "      <th></th>\n",
              "      <th>trader</th>\n",
              "      <th>type</th>\n",
              "    </tr>\n",
              "  </thead>\n",
              "  <tbody>\n",
              "    <tr>\n",
              "      <th>0</th>\n",
              "      <td>Trader_285</td>\n",
              "      <td>MIX</td>\n",
              "    </tr>\n",
              "    <tr>\n",
              "      <th>1</th>\n",
              "      <td>Trader_114</td>\n",
              "      <td>NON HFT</td>\n",
              "    </tr>\n",
              "    <tr>\n",
              "      <th>2</th>\n",
              "      <td>Trader_110</td>\n",
              "      <td>NON HFT</td>\n",
              "    </tr>\n",
              "    <tr>\n",
              "      <th>3</th>\n",
              "      <td>Trader_57</td>\n",
              "      <td>NON HFT</td>\n",
              "    </tr>\n",
              "    <tr>\n",
              "      <th>4</th>\n",
              "      <td>Trader_128</td>\n",
              "      <td>NON HFT</td>\n",
              "    </tr>\n",
              "  </tbody>\n",
              "</table>\n",
              "</div>"
            ],
            "text/plain": [
              "       trader     type\n",
              "0  Trader_285      MIX\n",
              "1  Trader_114  NON HFT\n",
              "2  Trader_110  NON HFT\n",
              "3   Trader_57  NON HFT\n",
              "4  Trader_128  NON HFT"
            ]
          },
          "metadata": {},
          "execution_count": 13
        }
      ],
      "source": [
        "y_train.head()"
      ]
    },
    {
      "cell_type": "code",
      "execution_count": null,
      "metadata": {
        "id": "bCHXOUAK0e0_"
      },
      "outputs": [],
      "source": [
        "#Join the two df on trader id\n",
        "data = pd.merge(df, y_train, how=\"inner\", on=[\"trader\"])"
      ]
    },
    {
      "cell_type": "markdown",
      "metadata": {
        "id": "Rxpn9XmY8wKF"
      },
      "source": [
        "List of features\n",
        "x_Train and x_test data exhibit in their rows the same 35 features calculated for a given market player i on a certain stock Isin_iIsin \n",
        "i\n",
        "​\t\n",
        "  (whose identification code is an Isin) and a specific trading date tt :\n",
        "\n",
        "\n",
        "- Number of trading venues on which the market player trades ;\n",
        "\n",
        "- From all trading venues, statistics over the number of trades observed per second : #2 the mean, and, the max\n",
        "\n",
        "- Statistics over the observed time delta between two trades on the trading venue TV_1[1] : min, median, mean\n",
        "\n",
        "Statistics over the observed time delta between two trades occurring on trading venue TV_1 and then on trading venue TV_2 : min, median, mean\n",
        "\n",
        "- Statistics over the observed time delta between two trades occurring on trading venue TV_1 and then on trading venue TV_3 : min, median, mean\n",
        "\n",
        "- Statistics over the observed time delta between two trades occurring on trading venue TV_1 and then on trading venue TV_4 : min, median, mean\n",
        "\n",
        "- From all trading venues, number of seconds during the trading day where at least one trade of the market player i is observed\n",
        "on trading venue TV_1;\n",
        "\n",
        "- Three ratios between the number of all types of events[2] sent to the LOB and :\n",
        "the number of trades (OTR),\n",
        "the number of cancellation-type event (OCR),\n",
        "the number of modification-type event (OMR);\n",
        "\n",
        "- On trading venue TV_1, statistics over the observed time delta between two all-type events sent :\n",
        "min,\n",
        "mean,\n",
        "10th percentile,\n",
        "1st quartile,\n",
        "median,\n",
        "3rd quartile,\n",
        "90th percentile,\n",
        "max\n",
        "\n",
        "- On trading venue TV_1, statistics over the observed lifetime of cancelled orders :\n",
        "min,\n",
        "mean,\n",
        "10th percentile,\n",
        "1st quartile,\n",
        "median,\n",
        "3rd quartile,\n",
        "90th percentile,\n",
        "max\n",
        "\n",
        "The features above are not detailed in the same order as in the challenge files.\n",
        "\n",
        "\n",
        "[1] TV_1 is the trading venue with the highest volume traded\n",
        "[2] Events include both the transactions and the messages that market players can send to the LOB: new order, order modification or order cancellation."
      ]
    },
    {
      "cell_type": "code",
      "execution_count": null,
      "metadata": {
        "colab": {
          "base_uri": "https://localhost:8080/"
        },
        "id": "hQTiGstz1_QV",
        "outputId": "5ce6cf41-d71c-44a0-f355-bd9dbef5f788"
      },
      "outputs": [
        {
          "output_type": "stream",
          "name": "stdout",
          "text": [
            "<class 'pandas.core.frame.DataFrame'>\n",
            "Int64Index: 105782 entries, 0 to 105781\n",
            "Data columns (total 40 columns):\n",
            " #   Column                      Non-Null Count   Dtype  \n",
            "---  ------                      --------------   -----  \n",
            " 0   index                       105782 non-null  int64  \n",
            " 1   share                       105782 non-null  object \n",
            " 2   day                         105782 non-null  object \n",
            " 3   trader                      105782 non-null  object \n",
            " 4   otr                         104099 non-null  float64\n",
            " 5   ocr                         105782 non-null  float64\n",
            " 6   omr                         58170 non-null   float64\n",
            " 7   min_time_two_events         105782 non-null  float64\n",
            " 8   mean_time_two_events        105782 non-null  float64\n",
            " 9   10_p_time_two_events        105782 non-null  float64\n",
            " 10  med_time_two_events         105782 non-null  float64\n",
            " 11  25_p_time_two_events        105782 non-null  float64\n",
            " 12  75_p_time_two_events        105782 non-null  float64\n",
            " 13  90_p_time_two_events        105782 non-null  float64\n",
            " 14  max_time_two_events         105782 non-null  float64\n",
            " 15  min_lifetime_cancel         105782 non-null  float64\n",
            " 16  mean_lifetime_cancel        105782 non-null  float64\n",
            " 17  10_p_lifetime_cancel        105782 non-null  float64\n",
            " 18  med_lifetime_cancel         105782 non-null  float64\n",
            " 19  25_p_lifetime_cancel        105782 non-null  float64\n",
            " 20  75_p_lifetime_cancel        105782 non-null  float64\n",
            " 21  90_p_lifetime_cancel        105782 non-null  float64\n",
            " 22  max_lifetime_cancel         105782 non-null  float64\n",
            " 23  nbtradevenuemic             105782 non-null  int64  \n",
            " 24  maxnbtradesbysecond         105782 non-null  int64  \n",
            " 25  meannbtradesbysecond        105782 non-null  float64\n",
            " 26  min_dt_tv1                  101547 non-null  float64\n",
            " 27  mean_dt_tv1                 101547 non-null  float64\n",
            " 28  med_dt_tv1                  101547 non-null  float64\n",
            " 29  min_dt_tv1_tv2              80606 non-null   float64\n",
            " 30  mean_dt_tv1_tv2             80606 non-null   float64\n",
            " 31  med_dt_tv1_tv2              80606 non-null   float64\n",
            " 32  min_dt_tv1_tv3              80527 non-null   float64\n",
            " 33  mean_dt_tv1_tv3             80527 non-null   float64\n",
            " 34  med_dt_tv1_tv3              80527 non-null   float64\n",
            " 35  min_dt_tv1_tv4              80634 non-null   float64\n",
            " 36  mean_dt_tv1_tv4             80634 non-null   float64\n",
            " 37  med_dt_tv1_tv4              80634 non-null   float64\n",
            " 38  nbsecondwithatleatonetrade  105782 non-null  int64  \n",
            " 39  type                        105782 non-null  object \n",
            "dtypes: float64(32), int64(4), object(4)\n",
            "memory usage: 33.1+ MB\n"
          ]
        }
      ],
      "source": [
        "df = data.copy()\n",
        "df.info()"
      ]
    },
    {
      "cell_type": "code",
      "execution_count": null,
      "metadata": {
        "id": "qC106WrH2Yud",
        "colab": {
          "base_uri": "https://localhost:8080/"
        },
        "outputId": "7c7d7894-3bd0-4c50-ee73-9dcd03490dee"
      },
      "outputs": [
        {
          "output_type": "execute_result",
          "data": {
            "text/plain": [
              "index                         0.000000\n",
              "share                         0.000000\n",
              "day                           0.000000\n",
              "trader                        0.000000\n",
              "otr                           0.015910\n",
              "ocr                           0.000000\n",
              "omr                           0.450095\n",
              "min_time_two_events           0.000000\n",
              "mean_time_two_events          0.000000\n",
              "10_p_time_two_events          0.000000\n",
              "med_time_two_events           0.000000\n",
              "25_p_time_two_events          0.000000\n",
              "75_p_time_two_events          0.000000\n",
              "90_p_time_two_events          0.000000\n",
              "max_time_two_events           0.000000\n",
              "min_lifetime_cancel           0.000000\n",
              "mean_lifetime_cancel          0.000000\n",
              "10_p_lifetime_cancel          0.000000\n",
              "med_lifetime_cancel           0.000000\n",
              "25_p_lifetime_cancel          0.000000\n",
              "75_p_lifetime_cancel          0.000000\n",
              "90_p_lifetime_cancel          0.000000\n",
              "max_lifetime_cancel           0.000000\n",
              "nbtradevenuemic               0.000000\n",
              "maxnbtradesbysecond           0.000000\n",
              "meannbtradesbysecond          0.000000\n",
              "min_dt_tv1                    0.040035\n",
              "mean_dt_tv1                   0.040035\n",
              "med_dt_tv1                    0.040035\n",
              "min_dt_tv1_tv2                0.237999\n",
              "mean_dt_tv1_tv2               0.237999\n",
              "med_dt_tv1_tv2                0.237999\n",
              "min_dt_tv1_tv3                0.238746\n",
              "mean_dt_tv1_tv3               0.238746\n",
              "med_dt_tv1_tv3                0.238746\n",
              "min_dt_tv1_tv4                0.237734\n",
              "mean_dt_tv1_tv4               0.237734\n",
              "med_dt_tv1_tv4                0.237734\n",
              "nbsecondwithatleatonetrade    0.000000\n",
              "type                          0.000000\n",
              "dtype: float64"
            ]
          },
          "metadata": {},
          "execution_count": 16
        }
      ],
      "source": [
        "#Remove columns with null values more than a threeshold (0.2)\n",
        "df.isnull().mean()"
      ]
    },
    {
      "cell_type": "code",
      "execution_count": null,
      "metadata": {
        "id": "UCRK9Fn-6MCF"
      },
      "outputs": [],
      "source": [
        "df = df[df.columns[df.isnull().mean() < 0.2]]"
      ]
    },
    {
      "cell_type": "code",
      "execution_count": null,
      "metadata": {
        "id": "a7e_jSHA6tWb"
      },
      "outputs": [],
      "source": [
        "del df['index']"
      ]
    },
    {
      "cell_type": "code",
      "source": [
        "df.describe()"
      ],
      "metadata": {
        "colab": {
          "base_uri": "https://localhost:8080/",
          "height": 320
        },
        "id": "Yxd42tGR6UbQ",
        "outputId": "aabb077a-4235-4eb7-9460-df05c9b3841f"
      },
      "execution_count": null,
      "outputs": [
        {
          "output_type": "execute_result",
          "data": {
            "text/html": [
              "<div>\n",
              "<style scoped>\n",
              "    .dataframe tbody tr th:only-of-type {\n",
              "        vertical-align: middle;\n",
              "    }\n",
              "\n",
              "    .dataframe tbody tr th {\n",
              "        vertical-align: top;\n",
              "    }\n",
              "\n",
              "    .dataframe thead th {\n",
              "        text-align: right;\n",
              "    }\n",
              "</style>\n",
              "<table border=\"1\" class=\"dataframe\">\n",
              "  <thead>\n",
              "    <tr style=\"text-align: right;\">\n",
              "      <th></th>\n",
              "      <th>otr</th>\n",
              "      <th>ocr</th>\n",
              "      <th>min_time_two_events</th>\n",
              "      <th>mean_time_two_events</th>\n",
              "      <th>10_p_time_two_events</th>\n",
              "      <th>med_time_two_events</th>\n",
              "      <th>25_p_time_two_events</th>\n",
              "      <th>75_p_time_two_events</th>\n",
              "      <th>90_p_time_two_events</th>\n",
              "      <th>max_time_two_events</th>\n",
              "      <th>min_lifetime_cancel</th>\n",
              "      <th>mean_lifetime_cancel</th>\n",
              "      <th>10_p_lifetime_cancel</th>\n",
              "      <th>med_lifetime_cancel</th>\n",
              "      <th>25_p_lifetime_cancel</th>\n",
              "      <th>75_p_lifetime_cancel</th>\n",
              "      <th>90_p_lifetime_cancel</th>\n",
              "      <th>max_lifetime_cancel</th>\n",
              "      <th>nbtradevenuemic</th>\n",
              "      <th>maxnbtradesbysecond</th>\n",
              "      <th>meannbtradesbysecond</th>\n",
              "      <th>min_dt_tv1</th>\n",
              "      <th>mean_dt_tv1</th>\n",
              "      <th>med_dt_tv1</th>\n",
              "      <th>nbsecondwithatleatonetrade</th>\n",
              "    </tr>\n",
              "  </thead>\n",
              "  <tbody>\n",
              "    <tr>\n",
              "      <th>count</th>\n",
              "      <td>104099.000000</td>\n",
              "      <td>105782.000000</td>\n",
              "      <td>105782.000000</td>\n",
              "      <td>105782.000000</td>\n",
              "      <td>105782.000000</td>\n",
              "      <td>105782.000000</td>\n",
              "      <td>105782.000000</td>\n",
              "      <td>105782.000000</td>\n",
              "      <td>105782.000000</td>\n",
              "      <td>105782.000000</td>\n",
              "      <td>105782.000000</td>\n",
              "      <td>105782.000000</td>\n",
              "      <td>105782.000000</td>\n",
              "      <td>105782.000000</td>\n",
              "      <td>105782.000000</td>\n",
              "      <td>105782.000000</td>\n",
              "      <td>105782.000000</td>\n",
              "      <td>105782.000000</td>\n",
              "      <td>105782.000000</td>\n",
              "      <td>105782.000000</td>\n",
              "      <td>105782.000000</td>\n",
              "      <td>101547.000000</td>\n",
              "      <td>101547.000000</td>\n",
              "      <td>101547.000000</td>\n",
              "      <td>105782.000000</td>\n",
              "    </tr>\n",
              "    <tr>\n",
              "      <th>mean</th>\n",
              "      <td>34.435038</td>\n",
              "      <td>17.458787</td>\n",
              "      <td>87.472164</td>\n",
              "      <td>2772.513578</td>\n",
              "      <td>103.310102</td>\n",
              "      <td>1011.630575</td>\n",
              "      <td>228.659560</td>\n",
              "      <td>4734.942457</td>\n",
              "      <td>9786.032539</td>\n",
              "      <td>24292.035085</td>\n",
              "      <td>1945.038027</td>\n",
              "      <td>5616.519744</td>\n",
              "      <td>2070.233540</td>\n",
              "      <td>4445.109364</td>\n",
              "      <td>2707.080480</td>\n",
              "      <td>8451.108964</td>\n",
              "      <td>11587.949910</td>\n",
              "      <td>19980.278762</td>\n",
              "      <td>5.563896</td>\n",
              "      <td>25.249324</td>\n",
              "      <td>2.093446</td>\n",
              "      <td>438.447418</td>\n",
              "      <td>1082.427774</td>\n",
              "      <td>651.743386</td>\n",
              "      <td>334.034070</td>\n",
              "    </tr>\n",
              "    <tr>\n",
              "      <th>std</th>\n",
              "      <td>137.261154</td>\n",
              "      <td>71.843225</td>\n",
              "      <td>1549.972501</td>\n",
              "      <td>4985.149536</td>\n",
              "      <td>1617.051421</td>\n",
              "      <td>4967.426924</td>\n",
              "      <td>2319.866837</td>\n",
              "      <td>10431.964706</td>\n",
              "      <td>14256.357615</td>\n",
              "      <td>17772.438572</td>\n",
              "      <td>6672.112738</td>\n",
              "      <td>9140.189971</td>\n",
              "      <td>6809.714060</td>\n",
              "      <td>9372.947978</td>\n",
              "      <td>7531.875480</td>\n",
              "      <td>13270.509124</td>\n",
              "      <td>15667.418368</td>\n",
              "      <td>17654.559859</td>\n",
              "      <td>4.385260</td>\n",
              "      <td>35.264111</td>\n",
              "      <td>1.417188</td>\n",
              "      <td>2876.755745</td>\n",
              "      <td>3187.357171</td>\n",
              "      <td>2931.984342</td>\n",
              "      <td>644.816702</td>\n",
              "    </tr>\n",
              "    <tr>\n",
              "      <th>min</th>\n",
              "      <td>1.044444</td>\n",
              "      <td>2.000000</td>\n",
              "      <td>0.000000</td>\n",
              "      <td>0.000065</td>\n",
              "      <td>0.000000</td>\n",
              "      <td>0.000000</td>\n",
              "      <td>0.000000</td>\n",
              "      <td>0.000000</td>\n",
              "      <td>0.000000</td>\n",
              "      <td>0.000065</td>\n",
              "      <td>0.000007</td>\n",
              "      <td>0.000038</td>\n",
              "      <td>0.000016</td>\n",
              "      <td>0.000035</td>\n",
              "      <td>0.000028</td>\n",
              "      <td>0.000038</td>\n",
              "      <td>0.000038</td>\n",
              "      <td>0.000038</td>\n",
              "      <td>1.000000</td>\n",
              "      <td>1.000000</td>\n",
              "      <td>1.000000</td>\n",
              "      <td>0.000001</td>\n",
              "      <td>0.000001</td>\n",
              "      <td>0.000001</td>\n",
              "      <td>1.000000</td>\n",
              "    </tr>\n",
              "    <tr>\n",
              "      <th>25%</th>\n",
              "      <td>3.709023</td>\n",
              "      <td>2.753802</td>\n",
              "      <td>0.000000</td>\n",
              "      <td>69.365666</td>\n",
              "      <td>0.000000</td>\n",
              "      <td>1.243868</td>\n",
              "      <td>0.000024</td>\n",
              "      <td>22.249021</td>\n",
              "      <td>117.771340</td>\n",
              "      <td>4410.907350</td>\n",
              "      <td>0.000583</td>\n",
              "      <td>67.897392</td>\n",
              "      <td>0.043414</td>\n",
              "      <td>6.234451</td>\n",
              "      <td>0.746623</td>\n",
              "      <td>30.724017</td>\n",
              "      <td>109.431107</td>\n",
              "      <td>1902.260450</td>\n",
              "      <td>2.000000</td>\n",
              "      <td>6.000000</td>\n",
              "      <td>1.500000</td>\n",
              "      <td>0.000007</td>\n",
              "      <td>50.921032</td>\n",
              "      <td>4.915512</td>\n",
              "      <td>24.000000</td>\n",
              "    </tr>\n",
              "    <tr>\n",
              "      <th>50%</th>\n",
              "      <td>7.346154</td>\n",
              "      <td>4.789474</td>\n",
              "      <td>0.000000</td>\n",
              "      <td>262.325253</td>\n",
              "      <td>0.000109</td>\n",
              "      <td>10.154920</td>\n",
              "      <td>0.093957</td>\n",
              "      <td>114.957445</td>\n",
              "      <td>480.715195</td>\n",
              "      <td>30166.389500</td>\n",
              "      <td>0.044144</td>\n",
              "      <td>272.333702</td>\n",
              "      <td>1.663752</td>\n",
              "      <td>35.734245</td>\n",
              "      <td>8.251923</td>\n",
              "      <td>182.259375</td>\n",
              "      <td>596.792220</td>\n",
              "      <td>17972.680000</td>\n",
              "      <td>5.000000</td>\n",
              "      <td>14.000000</td>\n",
              "      <td>1.880000</td>\n",
              "      <td>0.000091</td>\n",
              "      <td>183.022816</td>\n",
              "      <td>36.457000</td>\n",
              "      <td>97.000000</td>\n",
              "    </tr>\n",
              "    <tr>\n",
              "      <th>75%</th>\n",
              "      <td>22.707956</td>\n",
              "      <td>16.366667</td>\n",
              "      <td>0.000000</td>\n",
              "      <td>3801.273320</td>\n",
              "      <td>0.020739</td>\n",
              "      <td>60.552090</td>\n",
              "      <td>2.836749</td>\n",
              "      <td>2277.450350</td>\n",
              "      <td>20975.263250</td>\n",
              "      <td>37485.990000</td>\n",
              "      <td>35.497842</td>\n",
              "      <td>9185.177948</td>\n",
              "      <td>69.218030</td>\n",
              "      <td>2075.455025</td>\n",
              "      <td>254.888130</td>\n",
              "      <td>16302.060250</td>\n",
              "      <td>23952.383000</td>\n",
              "      <td>35716.844000</td>\n",
              "      <td>8.000000</td>\n",
              "      <td>30.000000</td>\n",
              "      <td>2.313703</td>\n",
              "      <td>0.001000</td>\n",
              "      <td>714.761762</td>\n",
              "      <td>227.236491</td>\n",
              "      <td>342.000000</td>\n",
              "    </tr>\n",
              "    <tr>\n",
              "      <th>max</th>\n",
              "      <td>17561.000000</td>\n",
              "      <td>14409.000000</td>\n",
              "      <td>52568.766000</td>\n",
              "      <td>52568.765625</td>\n",
              "      <td>52568.766000</td>\n",
              "      <td>52568.766000</td>\n",
              "      <td>52568.766000</td>\n",
              "      <td>60597.414000</td>\n",
              "      <td>60609.660000</td>\n",
              "      <td>71934.490000</td>\n",
              "      <td>53171.766000</td>\n",
              "      <td>53171.765625</td>\n",
              "      <td>53171.766000</td>\n",
              "      <td>53171.766000</td>\n",
              "      <td>53171.766000</td>\n",
              "      <td>53646.010000</td>\n",
              "      <td>53909.210000</td>\n",
              "      <td>53909.210000</td>\n",
              "      <td>24.000000</td>\n",
              "      <td>909.000000</td>\n",
              "      <td>63.000000</td>\n",
              "      <td>30929.771000</td>\n",
              "      <td>30929.771000</td>\n",
              "      <td>30929.771000</td>\n",
              "      <td>12966.000000</td>\n",
              "    </tr>\n",
              "  </tbody>\n",
              "</table>\n",
              "</div>"
            ],
            "text/plain": [
              "                 otr            ocr  ...     med_dt_tv1  nbsecondwithatleatonetrade\n",
              "count  104099.000000  105782.000000  ...  101547.000000               105782.000000\n",
              "mean       34.435038      17.458787  ...     651.743386                  334.034070\n",
              "std       137.261154      71.843225  ...    2931.984342                  644.816702\n",
              "min         1.044444       2.000000  ...       0.000001                    1.000000\n",
              "25%         3.709023       2.753802  ...       4.915512                   24.000000\n",
              "50%         7.346154       4.789474  ...      36.457000                   97.000000\n",
              "75%        22.707956      16.366667  ...     227.236491                  342.000000\n",
              "max     17561.000000   14409.000000  ...   30929.771000                12966.000000\n",
              "\n",
              "[8 rows x 25 columns]"
            ]
          },
          "metadata": {},
          "execution_count": 19
        }
      ]
    },
    {
      "cell_type": "code",
      "source": [
        "df.isnull().sum()"
      ],
      "metadata": {
        "colab": {
          "base_uri": "https://localhost:8080/"
        },
        "id": "JFMWjB6p7I1Q",
        "outputId": "d1158b27-0f07-45e8-8f32-9768adcdd862"
      },
      "execution_count": null,
      "outputs": [
        {
          "output_type": "execute_result",
          "data": {
            "text/plain": [
              "share                            0\n",
              "day                              0\n",
              "trader                           0\n",
              "otr                           1683\n",
              "ocr                              0\n",
              "min_time_two_events              0\n",
              "mean_time_two_events             0\n",
              "10_p_time_two_events             0\n",
              "med_time_two_events              0\n",
              "25_p_time_two_events             0\n",
              "75_p_time_two_events             0\n",
              "90_p_time_two_events             0\n",
              "max_time_two_events              0\n",
              "min_lifetime_cancel              0\n",
              "mean_lifetime_cancel             0\n",
              "10_p_lifetime_cancel             0\n",
              "med_lifetime_cancel              0\n",
              "25_p_lifetime_cancel             0\n",
              "75_p_lifetime_cancel             0\n",
              "90_p_lifetime_cancel             0\n",
              "max_lifetime_cancel              0\n",
              "nbtradevenuemic                  0\n",
              "maxnbtradesbysecond              0\n",
              "meannbtradesbysecond             0\n",
              "min_dt_tv1                    4235\n",
              "mean_dt_tv1                   4235\n",
              "med_dt_tv1                    4235\n",
              "nbsecondwithatleatonetrade       0\n",
              "type                             0\n",
              "dtype: int64"
            ]
          },
          "metadata": {},
          "execution_count": 20
        }
      ]
    },
    {
      "cell_type": "code",
      "source": [
        "#Replace NaN values by 0\n",
        "df.fillna(0,inplace=True)"
      ],
      "metadata": {
        "id": "N7XsdKh97QSt"
      },
      "execution_count": null,
      "outputs": []
    },
    {
      "cell_type": "code",
      "source": [
        "numerical_column = ['int64','float64']\n",
        "df.select_dtypes(include=numerical_column).hist(figsize=(16, 20), bins=50, xlabelsize=8, ylabelsize=8)\n",
        "plt.show()"
      ],
      "metadata": {
        "colab": {
          "base_uri": "https://localhost:8080/",
          "height": 1000
        },
        "id": "u7yZt2ZSMSX4",
        "outputId": "536ce60f-306c-46c5-ae15-0b0b014af0c8"
      },
      "execution_count": null,
      "outputs": [
        {
          "output_type": "display_data",
          "data": {
            "image/png": "[encoded data removed]",
            "text/plain": [
              "<Figure size 1152x1440 with 25 Axes>"
            ]
          },
          "metadata": {
            "needs_background": "light"
          }
        }
      ]
    },
    {
      "cell_type": "code",
      "source": [
        "#Create two features \n",
        "df['lifetime_cancel'] = df['10_p_lifetime_cancel'] + df['90_p_lifetime_cancel']\n",
        "df['time_two_events'] = df['10_p_time_two_events'] + df['90_p_time_two_events']"
      ],
      "metadata": {
        "id": "zBAq16wljX2x"
      },
      "execution_count": null,
      "outputs": []
    },
    {
      "cell_type": "code",
      "source": [
        "#Features to drop from the dataframe\n",
        "toDrop = ['min_time_two_events','10_p_time_two_events','med_time_two_events',\n",
        "          '25_p_time_two_events','75_p_time_two_events','90_p_time_two_events',\n",
        "          'min_lifetime_cancel','10_p_lifetime_cancel','med_lifetime_cancel',\n",
        "          '25_p_lifetime_cancel','75_p_lifetime_cancel','90_p_lifetime_cancel','max_lifetime_cancel']"
      ],
      "metadata": {
        "id": "-NAEUZiRkQ5M"
      },
      "execution_count": null,
      "outputs": []
    },
    {
      "cell_type": "code",
      "source": [
        "#Drop features\n",
        "for col in toDrop:\n",
        "  del df[col]"
      ],
      "metadata": {
        "id": "zwy4aXy9nRL7"
      },
      "execution_count": null,
      "outputs": []
    },
    {
      "cell_type": "markdown",
      "metadata": {
        "id": "B_irOQw51_Qw"
      },
      "source": [
        "# Analyse du jeu de donnees"
      ]
    },
    {
      "cell_type": "code",
      "source": [
        "#On centre et reduit pour rendre les donnees homogenes\n",
        "#RobustScaler est plus approprie pour des donnees qui contiennent des outliers\n",
        "from sklearn.preprocessing import RobustScaler\n",
        "scaler = RobustScaler()\n",
        "scaleData = scaler.fit_transform(df.select_dtypes(include=numerical_column))"
      ],
      "metadata": {
        "id": "fuy9Hs3387ai"
      },
      "execution_count": null,
      "outputs": []
    },
    {
      "cell_type": "code",
      "source": [
        "cols = df.select_dtypes(include=numerical_column).columns"
      ],
      "metadata": {
        "id": "XfVTxOxE-hvU"
      },
      "execution_count": null,
      "outputs": []
    },
    {
      "cell_type": "code",
      "source": [
        "scaleData = pd.DataFrame(data= scaleData, columns=cols, index=df['trader'])"
      ],
      "metadata": {
        "id": "dqCOiF1_-Cj3"
      },
      "execution_count": null,
      "outputs": []
    },
    {
      "cell_type": "code",
      "source": [
        "nData = pd.merge(scaleData, y_train, how=\"inner\", on=[\"trader\"])"
      ],
      "metadata": {
        "id": "sj1b5yRvARc_"
      },
      "execution_count": null,
      "outputs": []
    },
    {
      "cell_type": "code",
      "execution_count": null,
      "metadata": {
        "id": "MXFAGOBn_R9g"
      },
      "outputs": [],
      "source": [
        "#select only numerical features to find correlation\n",
        "plt.figure(figsize=(15,15))\n",
        "sns.heatmap(\n",
        "    nData.corr(),\n",
        "    cmap=plt.cm.RdBu,\n",
        "    vmax=1.0,\n",
        "    linewidths=0.1,\n",
        "    linecolor='white',\n",
        "    square=True,\n",
        "    annot=True\n",
        ")\n",
        "plt.show()"
      ]
    },
    {
      "cell_type": "code",
      "execution_count": null,
      "metadata": {
        "id": "YCr5YNqG9Mq1"
      },
      "outputs": [],
      "source": [
        "def correlation(dataset, threshold):\n",
        "  #Supprime les variables fortement correlees\n",
        "  col_corr = set() \n",
        "  corr_matrix = dataset.corr()\n",
        "  for i in range(len(corr_matrix.columns)):\n",
        "    for j in range(i):\n",
        "      if abs(corr_matrix.iloc[i,j]) > threshold:\n",
        "        colname = corr_matrix.columns[i]\n",
        "        col_corr.add(colname)\n",
        "  return col_corr"
      ]
    },
    {
      "cell_type": "code",
      "execution_count": null,
      "metadata": {
        "id": "vZjyf4A0-805"
      },
      "outputs": [],
      "source": [
        "corr_features = correlation(nData, 0.9)"
      ]
    },
    {
      "cell_type": "code",
      "execution_count": null,
      "metadata": {
        "id": "o1VAqypg_aJ3"
      },
      "outputs": [],
      "source": [
        "#Les variables fortement correles\n",
        "corr_features"
      ]
    },
    {
      "cell_type": "code",
      "execution_count": null,
      "metadata": {
        "id": "TGJCo3OuD7Fo"
      },
      "outputs": [],
      "source": [
        "#On supprime les variables fortement correles car l'apport marginal de chaque variable\n",
        "#fortement correlees a une autre decroit dans le modele\n",
        "\n",
        "#Le probleme avec la methode ci-dessus, c'est que nous n'avons pas le choix sur la variable a choisir\n",
        "#entre deux vaiables correles \n",
        "\n",
        "df_ = nData.drop(['mean_lifetime_cancel','min_dt_tv1','mean_dt_tv1'],axis=1)"
      ]
    },
    {
      "cell_type": "code",
      "source": [
        "sns.pairplot(df_[['otr','ocr','nbtradevenuemic','type']], hue=\"type\")"
      ],
      "metadata": {
        "id": "AuyruYvLolUh"
      },
      "execution_count": null,
      "outputs": []
    },
    {
      "cell_type": "markdown",
      "source": [
        "Le nombre de lieu sur lesquels les MIX et HFT (entre 0 et 25) passent des ordres est en moyenne plus grand que celui des Non-HFT (entre 0 et 10)"
      ],
      "metadata": {
        "id": "cHG9JQ6ysugc"
      }
    },
    {
      "cell_type": "code",
      "source": [
        "sns.pairplot(df_[['mean_time_two_events','meannbtradesbysecond','nbsecondwithatleatonetrade','type']], hue=\"type\")"
      ],
      "metadata": {
        "id": "9oA5Td-4rZ_T"
      },
      "execution_count": null,
      "outputs": []
    },
    {
      "cell_type": "markdown",
      "source": [
        "Les Non-HFT executent en moyenne moins d'ordre (a la seconde) et ont un nombre moyen de temps entre deux ordres plus eleves que les MIX et les HFT"
      ],
      "metadata": {
        "id": "D5jf3IAysc4x"
      }
    },
    {
      "cell_type": "code",
      "source": [
        "# Plot sepal width as a function of sepal_length across days\n",
        "g = sns.lmplot(\n",
        "    data=df_,\n",
        "    x=\"otr\", y=\"nbtradevenuemic\", hue=\"type\",\n",
        "    height=5\n",
        ")\n",
        "\n",
        "# Use more informative axis labels than are provided by default\n",
        "g.set_axis_labels(\"Number of trade\", \"Nb of trade venue mic\")"
      ],
      "metadata": {
        "id": "ROXXDmwRudM_"
      },
      "execution_count": null,
      "outputs": []
    },
    {
      "cell_type": "code",
      "source": [
        "sns.displot(\n",
        "    df_,\n",
        "    x=\"nbtradevenuemic\", col=\"type\", hue=\"type\",\n",
        "    kind=\"ecdf\", aspect=.75, linewidth=2\n",
        ")"
      ],
      "metadata": {
        "id": "iy1PWUgezrDc"
      },
      "execution_count": null,
      "outputs": []
    },
    {
      "cell_type": "markdown",
      "source": [
        "Les MIX sont egalement reparties sur le nombre de lieu d'echange possible, pendant que les NON HFT ont en majorite moins de cinq lieu d'echange (60%). Plus de 90% des HFT ont moins de 10 lieu d'echange"
      ],
      "metadata": {
        "id": "HMdcMCtu08DA"
      }
    },
    {
      "cell_type": "code",
      "source": [
        "sns.displot(\n",
        "    df_,\n",
        "    x=\"otr\", col=\"type\", hue=\"type\",\n",
        "    kind=\"ecdf\", aspect=.75, linewidth=2\n",
        ")"
      ],
      "metadata": {
        "id": "AJd-e3YIz_vH"
      },
      "execution_count": null,
      "outputs": []
    },
    {
      "cell_type": "markdown",
      "source": [
        "Les HFT passent plus d'ordres que les Non HFT et MIX."
      ],
      "metadata": {
        "id": "UFtKSebv02Pl"
      }
    },
    {
      "cell_type": "code",
      "source": [
        "sns.displot(\n",
        "    df_,\n",
        "    x=\"meannbtradesbysecond\", col=\"type\", hue=\"type\",\n",
        "    kind=\"ecdf\", aspect=.75, linewidth=2\n",
        ")"
      ],
      "metadata": {
        "id": "sU2CazRx0GsD"
      },
      "execution_count": null,
      "outputs": []
    },
    {
      "cell_type": "markdown",
      "source": [
        "Les trois categories ont un nombre assez similaires de trades moyen a la seconde"
      ],
      "metadata": {
        "id": "_Hlgc2eR0r9I"
      }
    },
    {
      "cell_type": "code",
      "source": [
        "sns.displot(\n",
        "    df_,\n",
        "    x=\"ocr\", col=\"type\", hue=\"type\",\n",
        "    kind=\"ecdf\", aspect=.75, linewidth=2\n",
        ")"
      ],
      "metadata": {
        "id": "0Hj_u5IR0aPV"
      },
      "execution_count": null,
      "outputs": []
    },
    {
      "cell_type": "markdown",
      "source": [
        "Les MIX ont le plus grand nombre d'annulation d'ordres."
      ],
      "metadata": {
        "id": "gO0vi5030h7C"
      }
    },
    {
      "cell_type": "code",
      "source": [
        "df_.set_index('trader',inplace=True)"
      ],
      "metadata": {
        "id": "TUG1rlIIOfXQ"
      },
      "execution_count": null,
      "outputs": []
    },
    {
      "cell_type": "markdown",
      "metadata": {
        "id": "yfe-TIoa1_RE"
      },
      "source": [
        "# Modelisation"
      ]
    },
    {
      "cell_type": "code",
      "source": [
        "X = df_.loc[:,df_.columns != 'type']\n",
        "Y = df_['type']"
      ],
      "metadata": {
        "id": "_pfaTuXlOXXE"
      },
      "execution_count": null,
      "outputs": []
    },
    {
      "cell_type": "code",
      "source": [
        ""
      ],
      "metadata": {
        "id": "Lc-RcnLxSXzR"
      },
      "execution_count": null,
      "outputs": []
    },
    {
      "cell_type": "code",
      "source": [
        "from sklearn.model_selection import train_test_split\n",
        "X_train, X_val, y_train, y_val = train_test_split(\n",
        "        X, Y, test_size=0.3, random_state=42)"
      ],
      "metadata": {
        "id": "Zprt0as4P3Of"
      },
      "execution_count": null,
      "outputs": []
    },
    {
      "cell_type": "markdown",
      "source": [
        "Support vector machine"
      ],
      "metadata": {
        "id": "IinqA85ZUS6U"
      }
    },
    {
      "cell_type": "code",
      "source": [
        ""
      ],
      "metadata": {
        "id": "twMliXBlR0k6"
      },
      "execution_count": null,
      "outputs": []
    },
    {
      "cell_type": "code",
      "source": [
        ""
      ],
      "metadata": {
        "id": "AsTVI3RiR0bn"
      },
      "execution_count": null,
      "outputs": []
    },
    {
      "cell_type": "code",
      "source": [
        ""
      ],
      "metadata": {
        "id": "KpsZJBvIR0Sq"
      },
      "execution_count": null,
      "outputs": []
    },
    {
      "cell_type": "code",
      "source": [
        ""
      ],
      "metadata": {
        "id": "U2F9i-zCR0KY"
      },
      "execution_count": null,
      "outputs": []
    },
    {
      "cell_type": "code",
      "source": [
        ""
      ],
      "metadata": {
        "id": "m0TXCY8FRzmH"
      },
      "execution_count": null,
      "outputs": []
    },
    {
      "cell_type": "code",
      "execution_count": null,
      "metadata": {
        "id": "g0aY6n401_RH"
      },
      "outputs": [],
      "source": [
        "def plot_feature_importance(importance,names,model_type):\n",
        "\n",
        "    #Create arrays from feature importance and feature names\n",
        "    feature_importance = np.array(importance)\n",
        "    feature_names = np.array(names)\n",
        "\n",
        "    #Create a DataFrame using a Dictionary\n",
        "    data={'feature_names':feature_names,'feature_importance':feature_importance}\n",
        "    fi_df = pd.DataFrame(data)\n",
        "\n",
        "    #Sort the DataFrame in order decreasing feature importance\n",
        "    fi_df.sort_values(by=['feature_importance'], ascending=False,inplace=True)\n",
        "\n",
        "    #Define size of bar plot\n",
        "    plt.figure(figsize=(10,8))\n",
        "    #Plot Searborn bar chart\n",
        "    sns.barplot(x=fi_df['feature_importance'], y=fi_df['feature_names'])\n",
        "    #Add chart labels\n",
        "    plt.title(str(model_type) + 'FEATURE IMPORTANCE')\n",
        "    plt.xlabel('FEATURE IMPORTANCE')\n",
        "    plt.ylabel('FEATURE NAMES')\n"
      ]
    }
  ],
  "metadata": {
    "colab": {
      "collapsed_sections": [],
      "name": "HFT_machine_learning.ipynb",
      "provenance": [],
      "include_colab_link": true
    },
    "kernelspec": {
      "display_name": "Python 3",
      "language": "python",
      "name": "python3"
    },
    "language_info": {
      "codemirror_mode": {
        "name": "ipython",
        "version": 3
      },
      "file_extension": ".py",
      "mimetype": "text/x-python",
      "name": "python",
      "nbconvert_exporter": "python",
      "pygments_lexer": "ipython3",
      "version": "3.8.8"
    }
  },
  "nbformat": 4,
  "nbformat_minor": 0
}